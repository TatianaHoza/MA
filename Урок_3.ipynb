{
  "nbformat": 4,
  "nbformat_minor": 0,
  "metadata": {
    "colab": {
      "name": "Урок_3.ipynb",
      "provenance": [],
      "authorship_tag": "ABX9TyOTFlwPuPZNf/q9Y0APWKLF",
      "include_colab_link": true
    },
    "kernelspec": {
      "name": "python3",
      "display_name": "Python 3"
    },
    "language_info": {
      "name": "python"
    }
  },
  "cells": [
    {
      "cell_type": "markdown",
      "metadata": {
        "id": "view-in-github",
        "colab_type": "text"
      },
      "source": [
        "<a href=\"https://colab.research.google.com/github/TatianaHoza/MA/blob/%D0%A3%D1%80%D0%BE%D0%BA_3/%D0%A3%D1%80%D0%BE%D0%BA_3.ipynb\" target=\"_parent\"><img src=\"https://colab.research.google.com/assets/colab-badge.svg\" alt=\"Open In Colab\"/></a>"
      ]
    },
    {
      "cell_type": "code",
      "execution_count": null,
      "metadata": {
        "id": "3Alzze8qwOTY"
      },
      "outputs": [],
      "source": [
        "4. Пользуясь критерием Коши, докажите сходимость последовательности:"
      ]
    },
    {
      "cell_type": "code",
      "source": [
        "import math\n",
        "eps = 0.0000001\n",
        "N = -math.log(eps,2)\n",
        "\n",
        "print (f'eps={eps}', f'N={N}')\n",
        "\n",
        "n = int(N+1)\n",
        "\n",
        "print (f'a_{n}={math.sin(n)/2**n}')"
      ],
      "metadata": {
        "colab": {
          "base_uri": "https://localhost:8080/"
        },
        "id": "JuhZZywOwZAq",
        "outputId": "81256fe5-fb6c-4001-983b-627878fb91ed"
      },
      "execution_count": null,
      "outputs": [
        {
          "output_type": "stream",
          "name": "stdout",
          "text": [
            "eps=1e-07 N=23.25349666421154\n",
            "a_24=-5.3976676583684915e-08\n"
          ]
        }
      ]
    },
    {
      "cell_type": "code",
      "source": [
        "5. Пользуясь критерием Коши, докажите расходимость последовательности:"
      ],
      "metadata": {
        "id": "hAiycMXeCzVG"
      },
      "execution_count": null,
      "outputs": []
    },
    {
      "cell_type": "code",
      "source": [
        "import math\n",
        "eps = 0.0000001\n",
        "N = -math.log(eps,n)\n",
        "\n",
        "print (f'eps={eps}', f'N={N}')\n",
        "\n",
        "n = int(N+1)\n",
        "\n",
        "print (f'a_{n}={1/n}')"
      ],
      "metadata": {
        "colab": {
          "base_uri": "https://localhost:8080/"
        },
        "id": "tfvp9XY8C4f-",
        "outputId": "e862d8a1-854d-4ff3-d132-452d6faca53c"
      },
      "execution_count": null,
      "outputs": [
        {
          "output_type": "stream",
          "name": "stdout",
          "text": [
            "eps=1e-07 N=5.071687426135777\n",
            "a_6=0.16666666666666666\n"
          ]
        }
      ]
    }
  ]
}