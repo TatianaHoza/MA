{
  "nbformat": 4,
  "nbformat_minor": 0,
  "metadata": {
    "colab": {
      "name": "ДЗ_Урок_8.ipynb",
      "provenance": [],
      "authorship_tag": "ABX9TyOdZlpbr4UkorgBPWFhkecx",
      "include_colab_link": true
    },
    "kernelspec": {
      "name": "python3",
      "display_name": "Python 3"
    },
    "language_info": {
      "name": "python"
    }
  },
  "cells": [
    {
      "cell_type": "markdown",
      "metadata": {
        "id": "view-in-github",
        "colab_type": "text"
      },
      "source": [
        "<a href=\"https://colab.research.google.com/github/TatianaHoza/MA/blob/%D0%A3%D1%80%D0%BE%D0%BA_8/%D0%94%D0%97_%D0%A3%D1%80%D0%BE%D0%BA_8.ipynb\" target=\"_parent\"><img src=\"https://colab.research.google.com/assets/colab-badge.svg\" alt=\"Open In Colab\"/></a>"
      ]
    },
    {
      "cell_type": "code",
      "source": [
        "from scipy.optimize import fsolve\n",
        "import math\n",
        "\n",
        "def equations(p):\n",
        "    x, y = p\n",
        "    return (x**2-y**2+3*x*y**3-2*x**2*y**2+2*x-3*y-5, 3*y**3-2*x**2+2*x**3*4-5*x**2*y**2+5)\n",
        "\n",
        "x, y =  fsolve(equations, (10, 10))\n",
        "\n",
        "print(x, y)\n"
      ],
      "metadata": {
        "colab": {
          "base_uri": "https://localhost:8080/"
        },
        "id": "KjsuBj9i1zYN",
        "outputId": "3700d6e9-32fe-48f4-815f-6a43722c9851"
      },
      "execution_count": null,
      "outputs": [
        {
          "output_type": "stream",
          "name": "stdout",
          "text": [
            "3.938516122726258 2.5740601569163686\n"
          ]
        }
      ]
    }
  ]
}